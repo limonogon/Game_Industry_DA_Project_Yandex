{
 "cells": [
  {
   "attachments": {},
   "cell_type": "markdown",
   "metadata": {},
   "source": [
    "Description of the project\n",
    "You work in the online store \"Stremchik\", which sells computer games all over the world. Historical data on game \n",
    "sales, user and expert ratings, genres and platforms (for example, Xbox or PlayStation) are available from open \n",
    "sources. You need to identify the patterns that determine the success of the game. This will allow you to bet on a \n",
    "potentially popular product and plan your advertising campaigns.\n",
    "You have data up to 2016. Let's say it's December 2016 and you're planning a campaign for 2017. We need to \n",
    "work out the principle of working with data. It doesn't matter if you predict 2017 sales based on 2016 data or \n",
    "2027 based on 2026 data.\n",
    "Games.csv data description\n",
    "Name - the name of the game\n",
    "Platform - platform\n",
    "Year_of_Release - release year\n",
    "Genre - game genre\n",
    "NA_sales - North American sales (millions of dollars)\n",
    "EU_sales - Sales in Europe (millions of dollars)\n",
    "JP_sales - Sales in Japan (millions of dollars)\n",
    "Other_sales - sales in other countries (millions of dollars)\n",
    "Critic_Score - score of critics (from 0 to 100)\n",
    "User_Score - user score (from 0 to 10)\n",
    "Rating is a rating from the ESRB (Entertainment Software Rating Board) organization. This association \n",
    "determines the rating of computer games and assigns them a suitable age category.\n",
    "Data for 2016 may be incomplete."
   ]
  },
  {
   "cell_type": "code",
   "execution_count": null,
   "metadata": {},
   "outputs": [],
   "source": [
    "#Step 2. Open the data file and study the general information\n",
    "import pandas as pd\n",
    "import numpy as np\n",
    "import matplotlib.pyplot as plt\n",
    "import warnings\n",
    "warnings.filterwarnings('ignore') \n",
    "from datetime import datetime\n",
    "from scipy import stats as st\n",
    "games = pd.read_csv('/datasets/games.csv') \n",
    "games.head()\n",
    "games.describe()\n",
    "games.info()"
   ]
  },
  {
   "cell_type": "code",
   "execution_count": null,
   "metadata": {},
   "outputs": [],
   "source": [
    "#Step 3. Prepare the data\n",
    "#It is enough just to convert uppercase letters to lowercase\n",
    "games.columns = games.columns.str.lower()"
   ]
  },
  {
   "cell_type": "code",
   "execution_count": null,
   "metadata": {},
   "outputs": [],
   "source": [
    "#The rest too, so as not to accidentally get confused\n",
    "games['name'] = games['name'].str.lower()\n",
    "games['platform'] = games['platform'].str.lower()\n",
    "games['genre'] = games['genre'].str.lower()\n",
    "games['rating'] = games['rating'].str.lower()"
   ]
  },
  {
   "cell_type": "code",
   "execution_count": null,
   "metadata": {},
   "outputs": [],
   "source": [
    "#Duplicate check - 0\n",
    "games.duplicated().sum()"
   ]
  },
  {
   "cell_type": "code",
   "execution_count": null,
   "metadata": {},
   "outputs": [],
   "source": [
    "#convert to float format, replacing incorrect values with NaN\n",
    "games['user_score'] = pd.to_numeric(games['user_score'], errors='coerce')"
   ]
  },
  {
   "cell_type": "code",
   "execution_count": null,
   "metadata": {},
   "outputs": [],
   "source": [
    "#Fill in the gaps in the column with the year of publication with zeros and\n",
    "# convert everything to int\n",
    "games['year_of_release'] = games['year_of_release'].fillna(0)\n",
    "games['year_of_release'] = games['year_of_release'].astype('int')"
   ]
  },
  {
   "cell_type": "code",
   "execution_count": null,
   "metadata": {},
   "outputs": [],
   "source": [
    "#In the column with the names of the games, replace 2 gaps\n",
    "games['name'] = games['name'].fillna('unknown_name')"
   ]
  },
  {
   "cell_type": "code",
   "execution_count": null,
   "metadata": {},
   "outputs": [],
   "source": [
    "#In the column with game genres, replace 2 passes\n",
    "games['genre'] = games['genre'].fillna('unknown_genre')"
   ]
  },
  {
   "cell_type": "code",
   "execution_count": null,
   "metadata": {},
   "outputs": [],
   "source": [
    "#Age rating skips\n",
    "games['rating'] = games['rating'].fillna('unknown_rating')\n",
    "games.isnull().sum().sort_values(ascending = False)"
   ]
  },
  {
   "attachments": {},
   "cell_type": "markdown",
   "metadata": {},
   "source": [
    "Let's check what unnumbered values are found, otherwise suddenly the audience's assessment - they wrote the number in letters\n",
    "Basically, gaps are observed in the columns 'critic_score', 'user_score' and 'rating'\n",
    "Most likely they were pulled up by id of games from another database\n",
    "It is possible that this data is not available for specific platforms (devices N64, SNES, SAT, 2600, GB, NES, GEN, NG, etc.) or years (too old games)\n",
    "tbd - means that the rating was under discussion, but, apparently, was never published at the end"
   ]
  },
  {
   "cell_type": "code",
   "execution_count": null,
   "metadata": {},
   "outputs": [],
   "source": [
    "#Count the total sales in all regions and write them down in a separate column\n",
    "games['total_sales'] = games['na_sales'] + games['eu_sales'] + games['jp_sales'] + games['other_sales'] \n",
    "games.head()"
   ]
  },
  {
   "cell_type": "code",
   "execution_count": null,
   "metadata": {},
   "outputs": [],
   "source": [
    "#Step 4. Conduct exploratory data analysis\n",
    "#Release of games by years\n",
    "games[games['year_of_release'] != 0]['year_of_release'].hist(bins=40)"
   ]
  },
  {
   "cell_type": "markdown",
   "metadata": {},
   "source": [
    "The main peak of game release falls on 2008-2010\n",
    "Games started publishing in the early 1980s\n",
    "But it took as much as 15-20 years of technology development to start mass production of games. In \n",
    "my opinion, we can exclude data up to 2000, because the number of games released in those years is \n",
    "insignificant in comparison with further data\n",
    "The decline is most likely due to the development of mobile devices (smartphones, tablets, etc.) - It \n",
    "became easier for users to play during breaks, in queues, on the way to work, etc."
   ]
  },
  {
   "cell_type": "code",
   "execution_count": null,
   "metadata": {},
   "outputs": [],
   "source": [
    "#See how sales have changed by platform\n",
    "games.pivot_table(index='year_of_release', columns='platform', values='total_sales', aggfunc = 'sum')\n",
    "games[games['year_of_release'] != 0].pivot_table(index='year_of_release', columns='platform',\n",
    "values='total_sales', aggfunc='sum').plot(figsize=(10,5))\n",
    "plt.title('Dynamics of sales of games across all platforms')\n",
    "plt.show()"
   ]
  },
  {
   "cell_type": "code",
   "execution_count": null,
   "metadata": {},
   "outputs": [],
   "source": [
    "#Select the platforms with the highest total sales and plot the distribution by year\n",
    "platform_sales = games.pivot_table(index='platform', values='total_sales', aggfunc='sum').sort_values(by='total_sales',ascending=False)\n",
    "#print(platform_sales)\n",
    "platform_sales_top = platform_sales.query('total_sales > 259')\n",
    "#print(platform_sales_top)\n",
    "\n",
    "platform_list = ['ps2', 'x360', 'ps3', 'wii', 'ds', 'ps', 'ps4', 'psp', 'pc']\n",
    "games_top_platform = games.query('platform in @platform_list')\n",
    "games_top_platform[games_top_platform['year_of_release'] != 0].pivot_table(index='year_of_release', columns='platform', values='total_sales', aggfunc = 'sum').plot(figsize=(10, 5))\n",
    "plt.title('Dynamics of game sales by top platforms')\n",
    "plt.show()"
   ]
  },
  {
   "cell_type": "code",
   "execution_count": null,
   "metadata": {},
   "outputs": [],
   "source": [
    "#Find popular platforms in the past that now have sales on zero\n",
    "#ps, ps2, ds, wii, psp\n"
   ]
  },
  {
   "attachments": {},
   "cell_type": "markdown",
   "metadata": {},
   "source": [
    "During what characteristic period do new platforms appear and old platforms disappear?\n",
    "the example of Xbox and PS shows that the average platform relevance cycle is 8-10 years\n",
    "\n",
    "Let's create a pivot table in the context of platforms and display the maximum and minimum values of the games released on them\n",
    "Further, we will exclude the threshold values, thus all the \"extreme\" platforms for which there is no data before 1980, or their cycle has not yet ended in 2016, will disappear.\n",
    "By the way, the PC platform will disappear immediately"
   ]
  },
  {
   "cell_type": "code",
   "execution_count": null,
   "metadata": {},
   "outputs": [],
   "source": [
    "plat_year_pivot = games[games['year_of_release'] != 0].pivot_table(index='plat form', values='year_of_release', aggfunc = ('max', 'min'))\n",
    "\n",
    "plat_year_pivot_act = plat_year_pivot.query('(min > 1980) & (max < 2016) & (mi n != max)')\n",
    "plat_year_pivot_act['platform_lifetime'] = plat_year_pivot_act['max'] - plat_year_pivot_act['min']\n",
    "print(plat_year_pivot_act)\n",
    "print(plat_year_pivot_act['platform_lifetime'].mean())"
   ]
  },
  {
   "cell_type": "code",
   "execution_count": null,
   "metadata": {},
   "outputs": [],
   "source": [
    "#There is one particularly \"long-playing\" console - Nintendo DS (28 years old)"
   ]
  },
  {
   "cell_type": "code",
   "execution_count": null,
   "metadata": {},
   "outputs": [],
   "source": [
    "#Determine the data for which period you need to take in order to exclude a significant distortion of the distribution by platform in 2016\n",
    "#if 1995-2015 is the entire current period, to build a forecast, we will only analyze the data of the decline cycle of the gaming market\n",
    "# starting from the peak in 2009, we will take the period 2009-2015"
   ]
  },
  {
   "cell_type": "code",
   "execution_count": null,
   "metadata": {},
   "outputs": [],
   "source": [
    "years_list = []\n",
    "for element in range(2009,2016): years_list.append(element)\n",
    "#print(years_list)\n",
    "\n",
    "games_data = games.query('year_of_release in @years_list')\n",
    "#print(games_data.head())"
   ]
  },
  {
   "cell_type": "code",
   "execution_count": null,
   "metadata": {},
   "outputs": [],
   "source": [
    "#Next, only work with the data that you have defined. Do not include data from previous years\n",
    "#Which platforms are leading in terms of sales, rising or falling? Choose a few potentially profitable platforms\n",
    "games_data.pivot_table(index = 'platform', values = 'total_sales', aggfunc = 'sum').sort_values(by='total_sales', ascending=False)"
   ]
  },
  {
   "cell_type": "markdown",
   "metadata": {},
   "source": [
    "Top sellers for the period under review - PS3, Xbox360 and Wii\n",
    "However, all of these platforms are already completing their popularity cycle.\n",
    "PS4 can be considered as potentially profitable, replacing the once popular PS3 and Xbox One, replacing the Xbox 360\n",
    "sales on PC are not as high as on game consoles, but PC games are relevant at all times"
   ]
  },
  {
   "cell_type": "code",
   "execution_count": null,
   "metadata": {},
   "outputs": [],
   "source": [
    "#Plot a box and \"mustache\" graph of the global sales of each game and breakdown by platform\n",
    "games_data.describe()\n",
    "\n",
    "pivot_game_sale = games_data.pivot_table(index='name', columns='platform', values='total_sales', aggfunc = 'sum')\n",
    "#print(pivot_game_sale)\n",
    "\n",
    "plot = pivot_game_sale.boxplot(figsize=(10,10)).set_ylim(0,5)\n",
    "plt.title('A box with a mustache selling games on different platforms')\n",
    "plt.show()\n",
    "#plot = pivot_game_sale.boxplot(figsize=(10,10))\n",
    "#plt.show()"
   ]
  },
  {
   "cell_type": "markdown",
   "metadata": {},
   "source": [
    "Is there a big difference in sales? What about average sales across different platforms? Describe the result\n",
    "There are some \"successful\" games, sales for which exceed 20, 25 and even 30 million dollars, which differs from the average and goes far beyond the \"mustache\"\n",
    "In general, the situation is similar for platforms: the lower mustache rests at 0, and the upper one is in the range of $ 1 million for most of the platforms. There are more successful platforms - PS3, Xbox360 and Wiiu with a top mustache of over $ 1 million; and the PS4 and Xbox One platforms are the next generations of the above platforms, the normal distribution of game sales for which can reach $ 2.5 million.\n",
    "\n",
    "It is clearly seen that with the evolution of a specific platform, sales by games are also growing. For example PS4> PS3> PS2\n",
    "A XboxOne> Xbox360 Wiiu> Wii\n",
    "\n",
    "Although we took the data for 2009-2015, the difference in sales can still be affected by an increase in game prices over time, at least due to inflation, as well as an increase in game production costs"
   ]
  },
  {
   "cell_type": "code",
   "execution_count": null,
   "metadata": {},
   "outputs": [],
   "source": [
    "#See how user and critical reviews affect sales within one popular platform\n",
    "games_data_ps2 = games_data.query('platform == \"ps2\"')\n",
    "#print(games_data_ps2.head())\n",
    "\n",
    "games_data_ps2.plot(x='user_score', y='total_sales', kind='scatter', color='bl ue', alpha = 1, figsize=(10,5)).set_ylim(0,3)\n",
    "plt.title('Impact of user ratings on PS2 game sales')\n",
    "plt.show()\n",
    "games_data_ps2.plot(x='critic_score', y='total_sales', kind='scatter', color= 'maroon', alpha = 1, figsize=(10,5)).set_ylim(0,3)\n",
    "plt.title('The Impact of Critical Ratings on PS2 Game Sales')\n",
    "plt.show()"
   ]
  },
  {
   "cell_type": "code",
   "execution_count": null,
   "metadata": {},
   "outputs": [],
   "source": [
    "#Build a scatterplot and calculate the correlation between reviews and sales\n",
    "corr_data = pd.DataFrame()\n",
    "corr_data['total_sales'] = games_data['total_sales']\n",
    "corr_data['user_score'] = games_data['user_score']\n",
    "corr_data['critic_score'] = games_data['critic_score']\n",
    "#print(corr_data.head())\n",
    "\n",
    "corr_data.plot(x='user_score', y='total_sales', kind='scatter', color='blue', legend=True, alpha = 0.15, figsize=(10,5)).set_ylim(0,20)\n",
    "plt.title('Impact of user ratings on game sales across all platforms')\n",
    "plt.show()\n",
    "corr_data.plot(x='critic_score', y='total_sales', kind='scatter', color='maroo n', legend=True, alpha = 0.15, figsize=(10,5)).set_ylim(0,20)\n",
    "plt.title(' The Impact of Critical Ratings on Game Sales on All Platforms ')\n",
    "plt.show()\n",
    "\n",
    "corr_data[['total_sales', 'user_score',\n",
    "'critic_score']].corr().style.format(\" {:.2%}\")"
   ]
  },
  {
   "attachments": {},
   "cell_type": "markdown",
   "metadata": {},
   "source": [
    "Formulate conclusions and correlate them with sales of games on other platforms\n",
    "\n",
    "The diagrams for PS2 and general for all platforms are very similar in general\n",
    "As a rule, the higher the ratings of the game's critics and users, the higher its sales (not without emissions, of course)\n",
    "\n",
    "The weakest dependence of sales on user ratings - less than 9%\n",
    "The dependence of sales on the ratings of critics is higher - about 25%, but it is still considered weak There is a dependence of the ratings of critics and the ratings of users - almost 59%"
   ]
  },
  {
   "cell_type": "code",
   "execution_count": null,
   "metadata": {},
   "outputs": [],
   "source": [
    "#Look at the general distribution of games by genre. What about the most profitable genres?\n",
    "games_data.pivot_table(index='genre', values='name', aggfunc = 'count').sort_values(by='name', ascending=False)\n",
    "#Most action, misc and sports games\n",
    "games_data.pivot_table(index='genre', values='total_sales', aggfunc = 'sum').sort_values(by='total_sales', ascending=False)"
   ]
  },
  {
   "attachments": {},
   "cell_type": "markdown",
   "metadata": {},
   "source": [
    "It is quite expected that sales for these genres will be high.\n",
    "However, the shooter genre still has high sales, despite the fact that the number of games in this genre is not so high. This indicates the popularity of the shooter genre, more copies are sold\n",
    "Are high and low selling genres stand out?\n",
    "Outsiders in sales - puzzle and strategy games"
   ]
  },
  {
   "cell_type": "code",
   "execution_count": null,
   "metadata": {},
   "outputs": [],
   "source": [
    "#Step 5. Make a portrait of the user of each region\n",
    "#Define for each user region (NA, EU, JP):\n",
    "#Most popular platforms (top 5). Describe the differences in sales shares\n",
    "games_data.groupby(by='platform').agg({'na_sales':'sum'}).sort_values(by='na_s ales', ascending=False).head(5).plot(kind='bar', color='blue', legend=True)\n",
    "plt.title('Top 5 Popular Gaming Platforms in North America')\n",
    "plt.show()\n",
    "games_data.groupby(by='platform').agg({'eu_sales':'sum'}).sort_values(by='eu_s ales', ascending=False).head(5).plot(kind='bar', color='green', legend=True)\n",
    "plt.title('Top 5 Popular Gaming Platforms in Europe')\n",
    "plt.show()\n",
    "games_data.groupby(by='platform').agg({'jp_sales':'sum'}).sort_values(by='jp_s ales', ascending=False).head(5).plot(kind='bar', color='maroon', legend=True)\n",
    "plt.title('Top 5 Popular Gaming Platforms in Japan')\n",
    "plt.show()"
   ]
  },
  {
   "cell_type": "markdown",
   "metadata": {},
   "source": [
    "North American share of sales is the largest, in the observed period players preferred the Xbox 360 and PS3 The share of sales in the European market is almost 2 times less than the North American one, the top in popularity is the same platforms, only in reverse order (PS3 and Xbox 360)\n",
    "In Japan, the market is even smaller, and the most popular console is Nintendo 3DS, released in 2011 Most likely because the Japanese prefer portable consoles to play on the go or on the go"
   ]
  },
  {
   "cell_type": "code",
   "execution_count": null,
   "metadata": {},
   "outputs": [],
   "source": [
    "#Most popular genres (top 5). Explain the difference\n",
    "games_data.groupby(by='genre').agg({'na_sales':'sum'}).sort_values(by='na_sale s', ascending=False).head(5).plot(kind='bar', color='blue', legend=True)\n",
    "plt.title('Top 5 Popular Game Genres in North America')\n",
    "plt.show()\n",
    "games_data.groupby(by='genre').agg({'eu_sales':'sum'}).sort_values(by='eu_sale s', ascending=False).head(5).plot(kind='bar', color='green', legend=True)\n",
    "plt.title('Top 5 Popular Game Genres in Europe')\n",
    "plt.show()\n",
    "games_data.groupby(by='genre').agg({'jp_sales':'sum'}).sort_values(by='jp_sale s', ascending=False).head(5).plot(kind='bar', color='maroon', legend=True)\n",
    "plt.title('Top 5 Popular Game Genres in Japan')\n",
    "plt.show()"
   ]
  },
  {
   "cell_type": "markdown",
   "metadata": {},
   "source": [
    "Action and shooter genres are preferred in North America and Europe\n",
    "Whereas in Japan, RPGs are the most popular (well, in other words, they are not there like in the rest of the world)\n",
    "Firstly, the Japanese gaming market is one of the most ancient, so the average age of players can often reach 40-50 years.\n",
    "Secondly, as can be seen from the conclusions above, these same users have been playing on Nintendo since the late 80s and continue to play on Nintendo of the new generation.\n",
    "Third, the mentality of the Japanese is very different from that of an American or a European.\n",
    "They have their own completely unique culture, with their own traditions and characteristics. Take at least the same cult of anime, manga and comics, slot machines and other Japanese \"jokes\".\n",
    "The Japanese are more peaceful and prefer harmony in everything. Therefore, it is noticeable that shooters are not at all interesting to them, unlike users of other considered markets."
   ]
  },
  {
   "cell_type": "code",
   "execution_count": null,
   "metadata": {},
   "outputs": [],
   "source": [
    "#Does the ESRB rating affect sales in a particular region?\n",
    "games_data.groupby(by='rating').agg({'na_sales':'sum'}).sort_values(by='na_sal es', ascending=False).plot(kind='bar', color='blue', legend=True)\n",
    "plt.title('Total Game Sales by Age Rating in North America')\n",
    "plt.show()\n",
    "games_data.groupby(by='rating').agg({'eu_sales':'sum'}).sort_values(by='eu_sal es', ascending=False).plot(kind='bar', color='green', legend=True)\n",
    "plt.title('Total Game Sales by Age Rating in Europe')\n",
    "plt.show()\n",
    "games_data.groupby(by='rating').agg({'jp_sales':'sum'}).sort_values(by='jp_sal es', ascending=False).plot(kind='bar', color='maroon', legend=True)\n",
    "plt.title('Total Game Sales by Age Rating in Japan')\n",
    "plt.show()"
   ]
  },
  {
   "cell_type": "markdown",
   "metadata": {},
   "source": [
    "In America and Europe, the situation is about the same, the most popular games are in category E (for everyone), then - games with an unspecified rating\n",
    "In Japan, on the contrary, in 1st place - the rating is not specified\n",
    "It is possible that the most popular games for the Japanese market are produced by Japan itself, and are not particularly popular in the rest of the world, therefore they do not have an international rating."
   ]
  },
  {
   "cell_type": "code",
   "execution_count": null,
   "metadata": {},
   "outputs": [],
   "source": [
    "#Step 6. Conduct a study of statistical indicators\n",
    "#How do user ratings and critics ratings change across genres?\n",
    "user_genre_pivot = games_data.pivot_table(index='genre',values='user_score', aggfunc = 'mean')\n",
    "print('Average user ratings by game genre')\n",
    "print(user_genre_pivot.sort_values(by='user_score', ascending=False))\n",
    "#The average user rating for all genres is in the range of 6.2-7.3 (1-10)"
   ]
  },
  {
   "cell_type": "code",
   "execution_count": null,
   "metadata": {},
   "outputs": [],
   "source": [
    "critic_genre_pivot = games_data.pivot_table(index='genre',values='critic_scor e', aggfunc = 'mean')\n",
    "print('Average Critic Ratings by Game Genre')\n",
    "print(critic_genre_pivot.sort_values(by='critic_score', ascending=False))\n",
    "#The average critics' rating for all genres is in the range of 65-73 (1-100) What indicates the similarity of the ratings data"
   ]
  },
  {
   "cell_type": "code",
   "execution_count": null,
   "metadata": {},
   "outputs": [],
   "source": [
    "games_data.groupby(by='genre').agg({'user_score':'mean'}).sort_values(by='user_score', ascending=False).plot(kind='bar', color='blue', legend=True)\n",
    "plt.title('User ratings by game genre')\n",
    "plt.show()\n",
    "\n",
    "games_data.groupby(by='genre').agg({'critic_score':'mean'}).sort_values(by='critic_score', ascending=False).plot(kind='bar', color='maroon', legend=True)\n",
    "plt.title('Critics ratings by game genre')\n",
    "plt.show()\n",
    "#Users are more willing to give high scores to the RPG, Platform, Puzzle genres\n",
    "#Critics are more willing to give high scores for almost the same genres - Platform, RPG, Strategy"
   ]
  },
  {
   "cell_type": "code",
   "execution_count": null,
   "metadata": {},
   "outputs": [],
   "source": [
    "#Calculate the mean, variance and standard deviation\n",
    "games_data_genre_score = pd.DataFrame()\n",
    "games_data_genre_score['genre'] = games_data['genre']\n",
    "games_data_genre_score['critic_score'] = games_data['critic_score']\n",
    "games_data_genre_score['user_score'] = games_data['user_score']\n",
    "\n",
    "genre_list = ['action', 'adventure', 'fighting', 'misc', 'platform', 'puzzle', 'racing', 'role-playing', 'shooter', 'simulation', 'sports', 'strategy']\n",
    "for genre in genre_list:\n",
    "    variance_estimate = np.var(games_data_genre_score[games_data_genre_score['genre'] == genre], ddof=1)\n",
    "\n",
    "print('Dispersions by genre:', genre)\n",
    "print(variance_estimate)\n",
    "print('Standard deviation by genre:', genre)\n",
    "print(np.sqrt(variance_estimate))\n",
    "print('\t')"
   ]
  },
  {
   "cell_type": "markdown",
   "metadata": {},
   "source": [
    "Overall, Critical Review Standard Deviation across all genres is around 10-15 points Minimum values for RPG and Puzzle genres\n",
    "Maximum in Adventure and Sports genres\n",
    "\n",
    "The standard deviation of user reviews across all genres is also about the same - about 1.5 The minimum outstanding value for the RPG genre, minimum distribution spread"
   ]
  },
  {
   "cell_type": "code",
   "execution_count": null,
   "metadata": {},
   "outputs": [],
   "source": [
    "#Plot histograms. Describe the distribution\n",
    "for genre in genre_list:\n",
    "    print('Density of distribution of user ratings by genre:', genre)\n",
    "    games_data[games_data['genre'] == genre]['user_score'].hist(bins=10)\n",
    "    plt.show()\n",
    "    print('----------------------------------------------------------------')\n",
    "    print('Density of distribution of critics ratings by genre:', genre)\n",
    "    games_data[games_data['genre'] == genre]['critic_score'].hist(bins=100, color='maroon')\n",
    "    plt.show()\n",
    "    print('----------------------------------------------------------------')\n",
    "\n",
    "#The histograms by both users and critics across all genres are similar in that they are\n",
    "# negatively skewed due to the average rating above 5 out of 10."
   ]
  },
  {
   "attachments": {},
   "cell_type": "markdown",
   "metadata": {},
   "source": [
    "Step 7. Test hypotheses\n",
    "The average user ratings for the Xbox One and PC platforms are the same: H0: Average user ratings for Xbox One and PC platforms are the same\n",
    "H1: Average user ratings for Xbox One and PC platforms vary\n",
    "\n",
    "Set your own threshold value alpha:\n",
    "0.05 is the standard value for this kind of research (not too hard)"
   ]
  },
  {
   "cell_type": "code",
   "execution_count": null,
   "metadata": {},
   "outputs": [],
   "source": [
    "alpha = 0.05\n",
    "\n",
    "xbox_one = games_data[(games_data['platform'] == 'xone') & (games_data['user_s core'] > 0)]['user_score']\n",
    "pc = games_data[(games_data['platform'] == 'pc') & (games_data['user_score'] > 0)]['user_score']\n",
    "\n",
    "results = st.ttest_ind(xbox_one, pc)\n",
    "print('p-value:', results.pvalue)\n",
    "if (results.pvalue < alpha):\n",
    "    print(\"Rejecting the null hypothesis\")\n",
    "else:\n",
    "    print(\"Failed to reject the null hypothesis\")"
   ]
  },
  {
   "attachments": {},
   "cell_type": "markdown",
   "metadata": {},
   "source": [
    "This means that we could not reject the hypothesis that the average user ratings for the Xbox One and PC platforms are the same.\n",
    "Yet this does not mean that we have proven that these ratings are the same. It's just that our sample looks like these ratings are similar.\n",
    "It often happens that on one console the game turns out to be successful without serious bugs, while on another platform the main bugs may not be fixed for years\n",
    "But, apparently, the quality of games on PC and Xbox One is about the same."
   ]
  },
  {
   "cell_type": "code",
   "execution_count": null,
   "metadata": {},
   "outputs": [],
   "source": [
    "#The average user ratings of the Action and Sports genres are different:\n",
    "#H0: Average user ratings for Action and Sports genres are the same\n",
    "#H1: Average user ratings for Action and Sports are different\n",
    "alpha = 0.05\n",
    "\n",
    "action = games_data[(games_data['genre'] == 'action') & (games_data['user_scor e'] > 0)]['user_score']\n",
    "sports = games_data[(games_data['genre'] == 'sports') & (games_data['user_scor e'] > 0)]['user_score']\n",
    "\n",
    "results = st.ttest_ind(action, sports)\n",
    "print('p-value:', results.pvalue)\n",
    "if (results.pvalue < alpha):\n",
    "    print(\"Rejecting the null hypothesis\")\n",
    "else:\n",
    "    print(\"Failed to reject the null hypothesis\")\n",
    "#We reject the hypothesis that the average user ratings for the Action and\n",
    "# Sports genres are the same. In our sample, it turns out that users, on average,\n",
    "# give different ratings to games in the Action and Sports genres."
   ]
  },
  {
   "attachments": {},
   "cell_type": "markdown",
   "metadata": {},
   "source": [
    "How did you formulate the null and alternative hypotheses:\n",
    "H0 - always for equality, or for the absence of any changes H1 - alternative (opposite)\n",
    "\n",
    "What criterion was used to test hypotheses and why:\n",
    "Student's t-test, because we are working with a sample, not a general population\n",
    "\n",
    "Conclusions:\n",
    "Games began publishing in the early 1980s.\n",
    "But it took as long as 15-20 years of technology development to start mass production of games. The main peak in the release of games falls on 2008-2010.\n",
    "This was followed by a decline in the gaming industry associated with the development of smartphones and tablets, which is why many users switched to mobile devices.\n",
    "\n",
    "On average, the platform relevance cycle is 8-10 years.\n",
    "Then the relevance of the platform disappears, or the next generation of the platform comes out.\n",
    "There is one special console that remained relevant for an abnormally long period - for 28 years Nintendo did not let go of the players, mostly Japanese.\n",
    "\n",
    "To build forecasts for 2017, we took data for the period of the industry downturn in 2009-2015.\n",
    "\n",
    "It is noticeable that with the evolution of a specific platform, sales by games, as well as the cost of producing games, grow.\n",
    "\n",
    "Most of the games were released in the Action, Miscellaneous and Sports genres.\n",
    "\n",
    "In different markets, user preferences regarding gaming platforms and genres may differ. For example, as already mentioned, the Japanese prefer Nintendo and RPGs the most.\n",
    "In general, the Japanese market is very different from other markets, mainly due to all the early development since the 80s and the completely unique mentality of the Japanese."
   ]
  }
 ],
 "metadata": {
  "kernelspec": {
   "display_name": "Python 3",
   "language": "python",
   "name": "python3"
  },
  "language_info": {
   "name": "python",
   "version": "3.11.0 (main, Oct 24 2022, 18:26:48) [MSC v.1933 64 bit (AMD64)]"
  },
  "orig_nbformat": 4,
  "vscode": {
   "interpreter": {
    "hash": "5238573367df39f7286bb46f9ff5f08f63a01a80960060ce41e3c79b190280fa"
   }
  }
 },
 "nbformat": 4,
 "nbformat_minor": 2
}
